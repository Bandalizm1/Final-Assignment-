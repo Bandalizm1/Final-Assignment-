{
 "cells": [
  {
   "cell_type": "markdown",
   "id": "76d95def-485e-4800-9a61-464066d3cdbb",
   "metadata": {},
   "source": [
    "# Data Science Tools and Ecosystem"
   ]
  },
  {
   "cell_type": "markdown",
   "id": "22bbbd1b-d1e6-439a-8c05-3e2b30f47358",
   "metadata": {},
   "source": [
    "### In this notebook, Data Science Tools and Ecosystem are summarized."
   ]
  },
  {
   "cell_type": "markdown",
   "id": "7b32c812-08e6-47b5-9186-2166d342ac86",
   "metadata": {},
   "source": [
    "**Objectives:** \n",
    "- List popular languages for Data Science\n",
    "- Eveluating arithmetic expressions in Python\n",
    "- Commonly used libraries by Data Scientists"
   ]
  },
  {
   "cell_type": "markdown",
   "id": "3cc2b184-3fd7-492a-8576-b2ef782e35d3",
   "metadata": {},
   "source": [
    "### Some of the popular languages that Data Scientists use are:\n",
    "1. Python\n",
    "2. SQL\n",
    "3. R \n"
   ]
  },
  {
   "cell_type": "markdown",
   "id": "58210e1b-0ce1-4194-9af0-2f02afeacd1e",
   "metadata": {},
   "source": [
    "### Some of the commonly used libraries used by Data Scientists include:\n",
    "1. Numpy\n",
    "2. Pandas\n",
    "3. TensorFlow"
   ]
  },
  {
   "cell_type": "markdown",
   "id": "e7afb8b0-ebbe-4b41-92fd-492ea3bfabea",
   "metadata": {},
   "source": [
    "| Data Science Tools |\n",
    "|--------------------|\n",
    "| Jupiter Notebooks |\n",
    "| R Studios |\n",
    "| Zeppelin Notebooks |"
   ]
  },
  {
   "cell_type": "markdown",
   "id": "a8a3a769-b5c9-49f1-ad91-1b90e1c8d8f5",
   "metadata": {},
   "source": [
    "### Below are a few examples of evaluating arithmetic expressions in Python"
   ]
  },
  {
   "cell_type": "code",
   "execution_count": 4,
   "id": "1fd20f27-dd6a-4d43-98ca-071f27364025",
   "metadata": {},
   "outputs": [
    {
     "data": {
      "text/plain": [
       "17"
      ]
     },
     "execution_count": 4,
     "metadata": {},
     "output_type": "execute_result"
    }
   ],
   "source": [
    "# This a simple arithmetic expression to mutiply then add integers\n",
    "(3 * 4) + 5"
   ]
  },
  {
   "cell_type": "code",
   "execution_count": 5,
   "id": "10c548d5-25d9-4880-9be1-ea5e0a7b8d8f",
   "metadata": {},
   "outputs": [
    {
     "data": {
      "text/plain": [
       "3.3333333333333335"
      ]
     },
     "execution_count": 5,
     "metadata": {},
     "output_type": "execute_result"
    }
   ],
   "source": [
    "# This will convert 200 minutes to hours by diving by 60\n",
    "200 / 60"
   ]
  },
  {
   "cell_type": "markdown",
   "id": "6fdedf1c-a191-4def-bc4b-885775c36dcc",
   "metadata": {},
   "source": [
    "## Author\n",
    "Yahya Yakubu-Banda"
   ]
  },
  {
   "cell_type": "code",
   "execution_count": null,
   "id": "7a2987b5-abe0-417e-8a52-7dc45fcff03d",
   "metadata": {},
   "outputs": [],
   "source": []
  }
 ],
 "metadata": {
  "kernelspec": {
   "display_name": "Python 3 (ipykernel)",
   "language": "python",
   "name": "python3"
  },
  "language_info": {
   "codemirror_mode": {
    "name": "ipython",
    "version": 3
   },
   "file_extension": ".py",
   "mimetype": "text/x-python",
   "name": "python",
   "nbconvert_exporter": "python",
   "pygments_lexer": "ipython3",
   "version": "3.11.7"
  }
 },
 "nbformat": 4,
 "nbformat_minor": 5
}
